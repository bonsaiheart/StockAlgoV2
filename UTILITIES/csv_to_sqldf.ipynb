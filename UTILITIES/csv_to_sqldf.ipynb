{
 "cells": [
  {
   "cell_type": "code",
   "id": "initial_id",
   "metadata": {
    "collapsed": true,
    "ExecuteTime": {
     "end_time": "2024-08-02T04:57:10.467664Z",
     "start_time": "2024-08-02T04:52:09.328358Z"
    }
   },
   "source": [
    "import pandas as pd\n",
    "\n",
    "# Replace 'your_combined_file.csv' with the actual filename you saved\n",
    "df = pd.read_csv('combined_AMZN.csv') \n",
    "num_rows = len(df)\n",
    "print(f\"The combined CSV file has {num_rows} rows.\")\n"
   ],
   "outputs": [
    {
     "name": "stderr",
     "output_type": "stream",
     "text": [
      "C:\\Users\\natha\\AppData\\Local\\Temp\\ipykernel_13052\\3354916025.py:4: DtypeWarning: Columns (35,36,41,42,43,48,56,59,62,63,64,65,67,68,69,74,82,85,88,89,90,91,93) have mixed types. Specify dtype option on import or set low_memory=False.\n",
      "  df = pd.read_csv('combined_AMZN.csv')\n"
     ]
    },
    {
     "name": "stdout",
     "output_type": "stream",
     "text": [
      "The combined CSV file has 14569874 rows.\n"
     ]
    }
   ],
   "execution_count": 2
  },
  {
   "metadata": {
    "jupyter": {
     "is_executing": true
    }
   },
   "cell_type": "code",
   "source": [
    "import time\n",
    "\n",
    "for col in df.columns:\n",
    "    print(col)\n",
    "    time.sleep(0.01)  "
   ],
   "id": "cdbb3a71cdcc1691",
   "outputs": [],
   "execution_count": null
  },
  {
   "metadata": {},
   "cell_type": "markdown",
   "source": "",
   "id": "f21ff242e8401d34"
  }
 ],
 "metadata": {
  "kernelspec": {
   "display_name": "Python 3",
   "language": "python",
   "name": "python3"
  },
  "language_info": {
   "codemirror_mode": {
    "name": "ipython",
    "version": 2
   },
   "file_extension": ".py",
   "mimetype": "text/x-python",
   "name": "python",
   "nbconvert_exporter": "python",
   "pygments_lexer": "ipython2",
   "version": "2.7.6"
  }
 },
 "nbformat": 4,
 "nbformat_minor": 5
}
